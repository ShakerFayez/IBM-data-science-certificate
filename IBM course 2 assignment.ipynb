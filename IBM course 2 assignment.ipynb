{
 "cells": [
  {
   "cell_type": "markdown",
   "id": "39c1bb8b",
   "metadata": {},
   "source": [
    "# Good Title "
   ]
  },
  {
   "cell_type": "markdown",
   "id": "ebfad0d2",
   "metadata": {},
   "source": [
    "## Introduction"
   ]
  },
  {
   "cell_type": "markdown",
   "id": "7aeac6f9",
   "metadata": {},
   "source": [
    "- Python\n",
    "- R\n",
    "- SQL\n",
    "- Scala"
   ]
  },
  {
   "cell_type": "markdown",
   "id": "383ea323",
   "metadata": {},
   "source": [
    "- Scikit-learn\n",
    "- Matplotlib\n",
    "- Pandas\n",
    "- Numpy\n",
    "- Scipy\n",
    "- Tensorflow\n",
    "- Pytorch"
   ]
  },
  {
   "cell_type": "markdown",
   "id": "c712bcee",
   "metadata": {},
   "source": [
    "- Data Collection tools\n",
    "- Data integraton tools\n",
    "- Data Analysis tools\n",
    "- Data visualization tools\n",
    "- Model building tools\n",
    "- Model deployment tools\n",
    "- Model monitoring and asseetment tools\n"
   ]
  },
  {
   "cell_type": "markdown",
   "id": "f94a135b",
   "metadata": {},
   "source": [
    "44 * 33 + 22\n",
    "55 -44 / 25"
   ]
  },
  {
   "cell_type": "code",
   "execution_count": 2,
   "id": "17d36e79",
   "metadata": {},
   "outputs": [
    {
     "data": {
      "text/plain": [
       "1309"
      ]
     },
     "execution_count": 2,
     "metadata": {},
     "output_type": "execute_result"
    }
   ],
   "source": [
    "22 * 55 + 99"
   ]
  },
  {
   "cell_type": "code",
   "execution_count": 7,
   "id": "c699fc39",
   "metadata": {},
   "outputs": [
    {
     "name": "stdout",
     "output_type": "stream",
     "text": [
      "Enter number of minutes: 180\n",
      "these are 3.0 hours\n"
     ]
    }
   ],
   "source": [
    "minutes = int(input(\"Enter number of minutes: \"))\n",
    "hours = minutes / 60\n",
    "print(f'these are {hours} hours')"
   ]
  },
  {
   "cell_type": "markdown",
   "id": "ea90517c",
   "metadata": {},
   "source": [
    "# objictives\n",
    "- markdown\n",
    "- markdown\n",
    "- markdown\n",
    "- markdown\n",
    "- markdown\n",
    "- markdown\n",
    "- markdown\n",
    "- markdown\n",
    "- markdown\n",
    "- markdown\n",
    "- markdown"
   ]
  },
  {
   "cell_type": "markdown",
   "id": "24d042eb",
   "metadata": {},
   "source": [
    "Name: Shaker Fayez Hassan"
   ]
  }
 ],
 "metadata": {
  "kernelspec": {
   "display_name": "Python 3 (ipykernel)",
   "language": "python",
   "name": "python3"
  },
  "language_info": {
   "codemirror_mode": {
    "name": "ipython",
    "version": 3
   },
   "file_extension": ".py",
   "mimetype": "text/x-python",
   "name": "python",
   "nbconvert_exporter": "python",
   "pygments_lexer": "ipython3",
   "version": "3.11.1"
  }
 },
 "nbformat": 4,
 "nbformat_minor": 5
}
