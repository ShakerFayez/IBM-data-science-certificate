{
 "cells": [
  {
   "cell_type": "markdown",
   "id": "39c1bb8b",
   "metadata": {},
   "source": [
    "# *Data science tools and ecosystem*"
   ]
  },
  {
   "cell_type": "markdown",
   "id": "ebfad0d2",
   "metadata": {},
   "source": [
    "## Introduction: Dta science tools summarized"
   ]
  },
  {
   "cell_type": "markdown",
   "id": "7aeac6f9",
   "metadata": {},
   "source": [
    "- Python\n",
    "- R\n",
    "- SQL\n",
    "- Scala\n",
    "- Javascript\n",
    "- C\n",
    "- C++\n",
    "- Go\n",
    "- Ruby\n",
    "- Java"
   ]
  },
  {
   "cell_type": "markdown",
   "id": "383ea323",
   "metadata": {},
   "source": [
    "- Scikit-learn\n",
    "- Matplotlib\n",
    "- Pandas\n",
    "- Numpy\n",
    "- Scipy\n",
    "- Tensorflow\n",
    "- Seaborn\n",
    "- Keras\n",
    "- Cafee\n",
    "- Streamlit"
   ]
  },
  {
   "cell_type": "markdown",
   "id": "c712bcee",
   "metadata": {},
   "source": [
    "- Jupyter notebook\n",
    "- Rstudio\n",
    "- IBM watson studio\n",
    "- JupyterLab\n",
    "- Tableau\n",
    "- Power BI\n",
    "- SQLserver\n",
    "- IBM SPSS modeler\n",
    "- git/GitHub\n",
    "- InfosPhere\n",
    "- Anaconda\n",
    "- Spyder"
   ]
  },
  {
   "cell_type": "markdown",
   "id": "f94a135b",
   "metadata": {},
   "source": [
    "- 44 * 33 + 22\n",
    "- 55 - 44 / 25\n",
    "- 95 / 626\n",
    "- 484 + 54"
   ]
  },
  {
   "cell_type": "code",
   "execution_count": 5,
   "id": "17d36e79",
   "metadata": {},
   "outputs": [
    {
     "data": {
      "text/plain": [
       "1309"
      ]
     },
     "execution_count": 5,
     "metadata": {},
     "output_type": "execute_result"
    }
   ],
   "source": [
    "22 * 55 + 99"
   ]
  },
  {
   "cell_type": "code",
   "execution_count": 6,
   "id": "c699fc39",
   "metadata": {},
   "outputs": [
    {
     "name": "stdout",
     "output_type": "stream",
     "text": [
      "Enter number of minutes: 232\n",
      "these are 3.8666666666666667 hours\n"
     ]
    }
   ],
   "source": [
    "minutes = int(input(\"Enter number of minutes: \"))\n",
    "hours = minutes / 60\n",
    "print(f'these are {hours} hours')"
   ]
  },
  {
   "cell_type": "markdown",
   "id": "ea90517c",
   "metadata": {},
   "source": [
    "## *objectives\n",
    "\n",
    "- Learn data science ecosystem\n",
    "- learn data science tools\n",
    "- learn data science programming languages\n",
    "- learn data science libraries\n",
    "- learn data science Free and open-source software\n",
    "- learn data science methodology\n",
    "- learn data science workflow\n",
    "- learn data science Project delivery"
   ]
  },
  {
   "cell_type": "markdown",
   "id": "24d042eb",
   "metadata": {},
   "source": [
    "Name: Shaker Fayez Hassan"
   ]
  },
  {
   "cell_type": "code",
   "execution_count": null,
   "id": "3ecafda7",
   "metadata": {},
   "outputs": [],
   "source": []
  }
 ],
 "metadata": {
  "kernelspec": {
   "display_name": "Python 3 (ipykernel)",
   "language": "python",
   "name": "python3"
  },
  "language_info": {
   "codemirror_mode": {
    "name": "ipython",
    "version": 3
   },
   "file_extension": ".py",
   "mimetype": "text/x-python",
   "name": "python",
   "nbconvert_exporter": "python",
   "pygments_lexer": "ipython3",
   "version": "3.11.1"
  }
 },
 "nbformat": 4,
 "nbformat_minor": 5
}
